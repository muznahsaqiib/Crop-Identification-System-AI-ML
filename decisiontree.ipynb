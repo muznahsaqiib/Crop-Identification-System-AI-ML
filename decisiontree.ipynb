{
 "cells": [
  {
   "cell_type": "code",
   "execution_count": 1,
   "id": "4187d82d",
   "metadata": {},
   "outputs": [],
   "source": [
    "\n",
    "%matplotlib inline\n",
    "\n",
    "import pandas as pd\n",
    "from sklearn.tree import DecisionTreeClassifier\n",
    "import numpy as np\n",
    "import matplotlib.pyplot as plt\n",
    "from sklearn.model_selection import train_test_split\n",
    "from sklearn.svm import SVC\n",
    "from sklearn.metrics import classification_report\n",
    "from sklearn.metrics import accuracy_score\n",
    "import seaborn as sns\n",
    "from sklearn.preprocessing import StandardScaler\n",
    "from sklearn.preprocessing import LabelEncoder\n",
    "import pickle\n",
    "import streamlit as st"
   ]
  },
  {
   "cell_type": "markdown",
   "id": "fa2c0ba5",
   "metadata": {},
   "source": []
  },
  {
   "cell_type": "code",
   "execution_count": null,
   "id": "1f25a719",
   "metadata": {},
   "outputs": [
    {
     "data": {
      "text/html": [
       "<div>\n",
       "<style scoped>\n",
       "    .dataframe tbody tr th:only-of-type {\n",
       "        vertical-align: middle;\n",
       "    }\n",
       "\n",
       "    .dataframe tbody tr th {\n",
       "        vertical-align: top;\n",
       "    }\n",
       "\n",
       "    .dataframe thead th {\n",
       "        text-align: right;\n",
       "    }\n",
       "</style>\n",
       "<table border=\"1\" class=\"dataframe\">\n",
       "  <thead>\n",
       "    <tr style=\"text-align: right;\">\n",
       "      <th></th>\n",
       "      <th>longitude</th>\n",
       "      <th>latitude</th>\n",
       "      <th>NDVI</th>\n",
       "      <th>MaxTemp</th>\n",
       "      <th>AveTemp</th>\n",
       "      <th>MinTemp</th>\n",
       "      <th>AveHumidity</th>\n",
       "      <th>Rainfall</th>\n",
       "      <th>Crop_Type</th>\n",
       "    </tr>\n",
       "  </thead>\n",
       "  <tbody>\n",
       "    <tr>\n",
       "      <th>0</th>\n",
       "      <td>-88.707511</td>\n",
       "      <td>41.815454</td>\n",
       "      <td>0.2518</td>\n",
       "      <td>1.705882</td>\n",
       "      <td>-1.476471</td>\n",
       "      <td>-5.411765</td>\n",
       "      <td>85.888235</td>\n",
       "      <td>1.673529</td>\n",
       "      <td>corn</td>\n",
       "    </tr>\n",
       "    <tr>\n",
       "      <th>1</th>\n",
       "      <td>-88.707511</td>\n",
       "      <td>41.815454</td>\n",
       "      <td>0.3869</td>\n",
       "      <td>1.705882</td>\n",
       "      <td>-1.476471</td>\n",
       "      <td>-5.411765</td>\n",
       "      <td>85.888235</td>\n",
       "      <td>1.673529</td>\n",
       "      <td>corn</td>\n",
       "    </tr>\n",
       "    <tr>\n",
       "      <th>2</th>\n",
       "      <td>-88.707511</td>\n",
       "      <td>41.815454</td>\n",
       "      <td>0.2607</td>\n",
       "      <td>7.857143</td>\n",
       "      <td>1.678571</td>\n",
       "      <td>-4.142857</td>\n",
       "      <td>77.725000</td>\n",
       "      <td>0.516786</td>\n",
       "      <td>corn</td>\n",
       "    </tr>\n",
       "    <tr>\n",
       "      <th>3</th>\n",
       "      <td>-88.707511</td>\n",
       "      <td>41.815454</td>\n",
       "      <td>0.2353</td>\n",
       "      <td>7.857143</td>\n",
       "      <td>1.678571</td>\n",
       "      <td>-4.142857</td>\n",
       "      <td>77.725000</td>\n",
       "      <td>0.516786</td>\n",
       "      <td>corn</td>\n",
       "    </tr>\n",
       "    <tr>\n",
       "      <th>4</th>\n",
       "      <td>-88.707511</td>\n",
       "      <td>41.815454</td>\n",
       "      <td>0.2536</td>\n",
       "      <td>6.576923</td>\n",
       "      <td>2.757692</td>\n",
       "      <td>-1.153846</td>\n",
       "      <td>74.657692</td>\n",
       "      <td>1.993077</td>\n",
       "      <td>corn</td>\n",
       "    </tr>\n",
       "  </tbody>\n",
       "</table>\n",
       "</div>"
      ],
      "text/plain": [
       "   longitude   latitude    NDVI   MaxTemp   AveTemp   MinTemp  AveHumidity  \\\n",
       "0 -88.707511  41.815454  0.2518  1.705882 -1.476471 -5.411765    85.888235   \n",
       "1 -88.707511  41.815454  0.3869  1.705882 -1.476471 -5.411765    85.888235   \n",
       "2 -88.707511  41.815454  0.2607  7.857143  1.678571 -4.142857    77.725000   \n",
       "3 -88.707511  41.815454  0.2353  7.857143  1.678571 -4.142857    77.725000   \n",
       "4 -88.707511  41.815454  0.2536  6.576923  2.757692 -1.153846    74.657692   \n",
       "\n",
       "   Rainfall Crop_Type  \n",
       "0  1.673529      corn  \n",
       "1  1.673529      corn  \n",
       "2  0.516786      corn  \n",
       "3  0.516786      corn  \n",
       "4  1.993077      corn  "
      ]
     },
     "execution_count": 2,
     "metadata": {},
     "output_type": "execute_result"
    }
   ],
   "source": [
    "\n",
    "df = pd.read_csv(r'D:\\Flask_App\\Flask_App\\Dataset.csv')\n",
    "\n",
    "df.head()\n"
   ]
  },
  {
   "cell_type": "code",
   "execution_count": 1,
   "id": "4aa5f05c",
   "metadata": {},
   "outputs": [
    {
     "ename": "NameError",
     "evalue": "name 'df' is not defined",
     "output_type": "error",
     "traceback": [
      "\u001b[1;31m---------------------------------------------------------------------------\u001b[0m",
      "\u001b[1;31mNameError\u001b[0m                                 Traceback (most recent call last)",
      "Cell \u001b[1;32mIn[1], line 2\u001b[0m\n\u001b[0;32m      1\u001b[0m \u001b[38;5;66;03m#give last five rows\u001b[39;00m\n\u001b[1;32m----> 2\u001b[0m \u001b[43mdf\u001b[49m\u001b[38;5;241m.\u001b[39mtail()\n",
      "\u001b[1;31mNameError\u001b[0m: name 'df' is not defined"
     ]
    }
   ],
   "source": [
    "#give last five rows\n",
    "df.tail()"
   ]
  },
  {
   "cell_type": "code",
   "execution_count": 4,
   "id": "743a179d",
   "metadata": {},
   "outputs": [
    {
     "name": "stdout",
     "output_type": "stream",
     "text": [
      "          longitude   latitude    NDVI    MaxTemp    AveTemp    MinTemp  \\\n",
      "0        -88.707511  41.815454  0.2518   1.705882  -1.476471  -5.411765   \n",
      "1        -88.707511  41.815454  0.3869   1.705882  -1.476471  -5.411765   \n",
      "2        -88.707511  41.815454  0.2607   7.857143   1.678571  -4.142857   \n",
      "3        -88.707511  41.815454  0.2353   7.857143   1.678571  -4.142857   \n",
      "4        -88.707511  41.815454  0.2536   6.576923   2.757692  -1.153846   \n",
      "...             ...        ...     ...        ...        ...        ...   \n",
      "1125063 -111.014926  47.373779  0.2333  23.580645  18.361290  13.451613   \n",
      "1125064 -111.014926  47.373779 -0.0498  18.466667  13.146667   8.500000   \n",
      "1125065 -111.014926  47.373779  0.2489  18.466667  13.146667   8.500000   \n",
      "1125066 -111.014926  47.373779  0.2728  12.000000   7.858065   4.225806   \n",
      "1125067 -111.014926  47.373779 -0.0222  12.000000   7.858065   4.225806   \n",
      "\n",
      "         AveHumidity  Rainfall Crop_Type  \n",
      "0          85.888235  1.673529      corn  \n",
      "1          85.888235  1.673529      corn  \n",
      "2          77.725000  0.516786      corn  \n",
      "3          77.725000  0.516786      corn  \n",
      "4          74.657692  1.993077      corn  \n",
      "...              ...       ...       ...  \n",
      "1125063    70.741935  3.170645   barley   \n",
      "1125064    75.506667  0.880667   barley   \n",
      "1125065    75.506667  0.880667   barley   \n",
      "1125066    75.577419  3.589032   barley   \n",
      "1125067    75.577419  3.589032   barley   \n",
      "\n",
      "[1125068 rows x 9 columns]\n"
     ]
    }
   ],
   "source": [
    "print(df)"
   ]
  },
  {
   "cell_type": "code",
   "execution_count": 5,
   "id": "85eef3f1",
   "metadata": {},
   "outputs": [
    {
     "data": {
      "text/plain": [
       "longitude        0\n",
       "latitude         0\n",
       "NDVI           394\n",
       "MaxTemp          0\n",
       "AveTemp          0\n",
       "MinTemp          0\n",
       "AveHumidity      0\n",
       "Rainfall         0\n",
       "Crop_Type        0\n",
       "dtype: int64"
      ]
     },
     "execution_count": 5,
     "metadata": {},
     "output_type": "execute_result"
    }
   ],
   "source": [
    "df.isnull().sum()"
   ]
  },
  {
   "cell_type": "code",
   "execution_count": 7,
   "id": "60957be4",
   "metadata": {},
   "outputs": [],
   "source": [
    "#this is used to fill the null values which is present in NDVI column,\n",
    "#first we take the median then that median is replace with null values\n",
    "#if you replace with mode just change median into mode, or change with mean \n",
    "df['NDVI'].fillna(df['NDVI'].mean(),inplace=True)"
   ]
  },
  {
   "cell_type": "code",
   "execution_count": 8,
   "id": "09a74ea2",
   "metadata": {},
   "outputs": [
    {
     "data": {
      "text/plain": [
       "longitude      0\n",
       "latitude       0\n",
       "NDVI           0\n",
       "MaxTemp        0\n",
       "AveTemp        0\n",
       "MinTemp        0\n",
       "AveHumidity    0\n",
       "Rainfall       0\n",
       "Crop_Type      0\n",
       "dtype: int64"
      ]
     },
     "execution_count": 8,
     "metadata": {},
     "output_type": "execute_result"
    }
   ],
   "source": [
    "df.isnull().sum()"
   ]
  },
  {
   "cell_type": "code",
   "execution_count": 45,
   "id": "3426990b",
   "metadata": {},
   "outputs": [
    {
     "ename": "SyntaxError",
     "evalue": "invalid syntax (95426748.py, line 2)",
     "output_type": "error",
     "traceback": [
      "\u001b[1;36m  Input \u001b[1;32mIn [45]\u001b[1;36m\u001b[0m\n\u001b[1;33m    sns.relplot(data=df, x='Crop_Type', y='NDVI', col='Rainfall', hue='Min Temp',style='Min Temp' size='Max Temp')\u001b[0m\n\u001b[1;37m                                                                                                  ^\u001b[0m\n\u001b[1;31mSyntaxError\u001b[0m\u001b[1;31m:\u001b[0m invalid syntax\n"
     ]
    }
   ],
   "source": [
    "# #data visualization\n",
    "# sns.relplot(data=df, x='Crop_Type', y='NDVI', col='Rainfall', hue='Min Temp',style='Min Temp' size='Max Temp')"
   ]
  },
  {
   "cell_type": "code",
   "execution_count": 112,
   "id": "ad28129b",
   "metadata": {},
   "outputs": [
    {
     "data": {
      "text/plain": [
       "<AxesSubplot:xlabel='NDVI', ylabel='Rainfall'>"
      ]
     },
     "execution_count": 112,
     "metadata": {},
     "output_type": "execute_result"
    },
    {
     "name": "stderr",
     "output_type": "stream",
     "text": [
      "C:\\Users\\AL Makkah computer\\anaconda3\\lib\\site-packages\\IPython\\core\\events.py:89: UserWarning: Creating legend with loc=\"best\" can be slow with large amounts of data.\n",
      "  func(*args, **kwargs)\n",
      "C:\\Users\\AL Makkah computer\\anaconda3\\lib\\site-packages\\IPython\\core\\pylabtools.py:151: UserWarning: Creating legend with loc=\"best\" can be slow with large amounts of data.\n",
      "  fig.canvas.print_figure(bytes_io, **kw)\n"
     ]
    },
    {
     "data": {
      "image/png": "[encoded data removed]",
      "text/plain": [
       "<Figure size 432x288 with 1 Axes>"
      ]
     },
     "metadata": {
      "needs_background": "light"
     },
     "output_type": "display_data"
    }
   ],
   "source": [
    "# #graph between two perameters\n",
    "# sns.scatterplot(x='NDVI' ,y='Rainfall' ,hue='Crop_Type',data=df)"
   ]
  },
  {
   "cell_type": "code",
   "execution_count": 9,
   "id": "eeb1b24b",
   "metadata": {},
   "outputs": [
    {
     "data": {
      "text/plain": [
       "<AxesSubplot:xlabel='Crop_Type', ylabel='count'>"
      ]
     },
     "execution_count": 9,
     "metadata": {},
     "output_type": "execute_result"
    },
    {
     "data": {
      "image/png": "[encoded data removed]",
      "text/plain": [
       "<Figure size 432x288 with 1 Axes>"
      ]
     },
     "metadata": {
      "needs_background": "light"
     },
     "output_type": "display_data"
    }
   ],
   "source": [
    "#this is count plot means count the row and display in graph  (ye catogories the dermiyan hota hy not )\n",
    "sns.countplot(x='Crop_Type',data=df)"
   ]
  },
  {
   "cell_type": "code",
   "execution_count": 79,
   "id": "50f19e4e",
   "metadata": {},
   "outputs": [
    {
     "name": "stderr",
     "output_type": "stream",
     "text": [
      "C:\\Users\\AL Makkah computer\\anaconda3\\lib\\site-packages\\seaborn\\distributions.py:2619: FutureWarning: `distplot` is a deprecated function and will be removed in a future version. Please adapt your code to use either `displot` (a figure-level function with similar flexibility) or `histplot` (an axes-level function for histograms).\n",
      "  warnings.warn(msg, FutureWarning)\n"
     ]
    },
    {
     "data": {
      "text/plain": [
       "<AxesSubplot:xlabel='NDVI', ylabel='Density'>"
      ]
     },
     "execution_count": 79,
     "metadata": {},
     "output_type": "execute_result"
    },
    {
     "data": {
      "image/png": "[encoded data removed]",
      "text/plain": [
       "<Figure size 432x288 with 1 Axes>"
      ]
     },
     "metadata": {
      "needs_background": "light"
     },
     "output_type": "display_data"
    }
   ],
   "source": [
    "# #Distribution plot\n",
    "# sns.distplot(df['NDVI'])"
   ]
  },
  {
   "cell_type": "code",
   "execution_count": 78,
   "id": "a8517b79",
   "metadata": {},
   "outputs": [],
   "source": [
    "#Heat Map\n",
    "correlation=df.corr()"
   ]
  },
  {
   "cell_type": "code",
   "execution_count": 79,
   "id": "6baeb93b",
   "metadata": {},
   "outputs": [
    {
     "data": {
      "text/plain": [
       "<AxesSubplot:>"
      ]
     },
     "execution_count": 79,
     "metadata": {},
     "output_type": "execute_result"
    },
    {
     "data": {
      "image/png": "[encoded data removed]",
      "text/plain": [
       "<Figure size 720x720 with 2 Axes>"
      ]
     },
     "metadata": {
      "needs_background": "light"
     },
     "output_type": "display_data"
    }
   ],
   "source": [
    "plt.figure(figsize=(10,10))\n",
    "sns.heatmap(correlation, cmap='Greens_r', cbar=True, square=True, fmt='.1f' , annot=True, annot_kws={'size':10} ,linewidth=1)"
   ]
  },
  {
   "cell_type": "code",
   "execution_count": 10,
   "id": "9590fa07",
   "metadata": {},
   "outputs": [
    {
     "data": {
      "text/plain": [
       "array(['corn', 'cotton', 'soy', 'spring wheat', 'winter wheat', 'barley',\n",
       "       'barley '], dtype=object)"
      ]
     },
     "execution_count": 10,
     "metadata": {},
     "output_type": "execute_result"
    }
   ],
   "source": [
    "df['Crop_Type'].unique()"
   ]
  },
  {
   "cell_type": "code",
   "execution_count": 11,
   "id": "c7334e22",
   "metadata": {},
   "outputs": [
    {
     "data": {
      "text/plain": [
       "Crop_Type\n",
       "corn            206609\n",
       "cotton          206586\n",
       "soy             206586\n",
       "spring wheat    206586\n",
       "winter wheat    179032\n",
       "barley           89746\n",
       "barley           29923\n",
       "dtype: int64"
      ]
     },
     "execution_count": 11,
     "metadata": {},
     "output_type": "execute_result"
    }
   ],
   "source": [
    "#count the values based on labels\n",
    "df.value_counts('Crop_Type')"
   ]
  },
  {
   "cell_type": "code",
   "execution_count": 12,
   "id": "0507135d",
   "metadata": {},
   "outputs": [],
   "source": [
    "#load the label encoder function\n",
    "label_encoder=LabelEncoder()"
   ]
  },
  {
   "cell_type": "code",
   "execution_count": 13,
   "id": "96a221b2",
   "metadata": {},
   "outputs": [],
   "source": [
    "df['Crop_Type']=label_encoder.fit_transform(df['Crop_Type'])  #----> check karna hy is syntax google se "
   ]
  },
  {
   "cell_type": "code",
   "execution_count": 14,
   "id": "2ee843c9",
   "metadata": {},
   "outputs": [
    {
     "data": {
      "text/html": [
       "<div>\n",
       "<style scoped>\n",
       "    .dataframe tbody tr th:only-of-type {\n",
       "        vertical-align: middle;\n",
       "    }\n",
       "\n",
       "    .dataframe tbody tr th {\n",
       "        vertical-align: top;\n",
       "    }\n",
       "\n",
       "    .dataframe thead th {\n",
       "        text-align: right;\n",
       "    }\n",
       "</style>\n",
       "<table border=\"1\" class=\"dataframe\">\n",
       "  <thead>\n",
       "    <tr style=\"text-align: right;\">\n",
       "      <th></th>\n",
       "      <th>longitude</th>\n",
       "      <th>latitude</th>\n",
       "      <th>NDVI</th>\n",
       "      <th>MaxTemp</th>\n",
       "      <th>AveTemp</th>\n",
       "      <th>MinTemp</th>\n",
       "      <th>AveHumidity</th>\n",
       "      <th>Rainfall</th>\n",
       "      <th>Crop_Type</th>\n",
       "    </tr>\n",
       "  </thead>\n",
       "  <tbody>\n",
       "    <tr>\n",
       "      <th>0</th>\n",
       "      <td>-88.707511</td>\n",
       "      <td>41.815454</td>\n",
       "      <td>0.2518</td>\n",
       "      <td>1.705882</td>\n",
       "      <td>-1.476471</td>\n",
       "      <td>-5.411765</td>\n",
       "      <td>85.888235</td>\n",
       "      <td>1.673529</td>\n",
       "      <td>2</td>\n",
       "    </tr>\n",
       "    <tr>\n",
       "      <th>1</th>\n",
       "      <td>-88.707511</td>\n",
       "      <td>41.815454</td>\n",
       "      <td>0.3869</td>\n",
       "      <td>1.705882</td>\n",
       "      <td>-1.476471</td>\n",
       "      <td>-5.411765</td>\n",
       "      <td>85.888235</td>\n",
       "      <td>1.673529</td>\n",
       "      <td>2</td>\n",
       "    </tr>\n",
       "    <tr>\n",
       "      <th>2</th>\n",
       "      <td>-88.707511</td>\n",
       "      <td>41.815454</td>\n",
       "      <td>0.2607</td>\n",
       "      <td>7.857143</td>\n",
       "      <td>1.678571</td>\n",
       "      <td>-4.142857</td>\n",
       "      <td>77.725000</td>\n",
       "      <td>0.516786</td>\n",
       "      <td>2</td>\n",
       "    </tr>\n",
       "    <tr>\n",
       "      <th>3</th>\n",
       "      <td>-88.707511</td>\n",
       "      <td>41.815454</td>\n",
       "      <td>0.2353</td>\n",
       "      <td>7.857143</td>\n",
       "      <td>1.678571</td>\n",
       "      <td>-4.142857</td>\n",
       "      <td>77.725000</td>\n",
       "      <td>0.516786</td>\n",
       "      <td>2</td>\n",
       "    </tr>\n",
       "    <tr>\n",
       "      <th>4</th>\n",
       "      <td>-88.707511</td>\n",
       "      <td>41.815454</td>\n",
       "      <td>0.2536</td>\n",
       "      <td>6.576923</td>\n",
       "      <td>2.757692</td>\n",
       "      <td>-1.153846</td>\n",
       "      <td>74.657692</td>\n",
       "      <td>1.993077</td>\n",
       "      <td>2</td>\n",
       "    </tr>\n",
       "  </tbody>\n",
       "</table>\n",
       "</div>"
      ],
      "text/plain": [
       "   longitude   latitude    NDVI   MaxTemp   AveTemp   MinTemp  AveHumidity  \\\n",
       "0 -88.707511  41.815454  0.2518  1.705882 -1.476471 -5.411765    85.888235   \n",
       "1 -88.707511  41.815454  0.3869  1.705882 -1.476471 -5.411765    85.888235   \n",
       "2 -88.707511  41.815454  0.2607  7.857143  1.678571 -4.142857    77.725000   \n",
       "3 -88.707511  41.815454  0.2353  7.857143  1.678571 -4.142857    77.725000   \n",
       "4 -88.707511  41.815454  0.2536  6.576923  2.757692 -1.153846    74.657692   \n",
       "\n",
       "   Rainfall  Crop_Type  \n",
       "0  1.673529          2  \n",
       "1  1.673529          2  \n",
       "2  0.516786          2  \n",
       "3  0.516786          2  \n",
       "4  1.993077          2  "
      ]
     },
     "execution_count": 14,
     "metadata": {},
     "output_type": "execute_result"
    }
   ],
   "source": [
    "df.head()"
   ]
  },
  {
   "cell_type": "code",
   "execution_count": 15,
   "id": "fddbc722",
   "metadata": {},
   "outputs": [
    {
     "data": {
      "text/plain": [
       "longitude      1125068\n",
       "latitude       1125068\n",
       "NDVI           1125068\n",
       "MaxTemp        1125068\n",
       "AveTemp        1125068\n",
       "MinTemp        1125068\n",
       "AveHumidity    1125068\n",
       "Rainfall       1125068\n",
       "Crop_Type      1125068\n",
       "dtype: int64"
      ]
     },
     "execution_count": 15,
     "metadata": {},
     "output_type": "execute_result"
    }
   ],
   "source": [
    "#values or number of count\n",
    "df.count()"
   ]
  },
  {
   "cell_type": "code",
   "execution_count": 16,
   "id": "70d06a48",
   "metadata": {},
   "outputs": [
    {
     "data": {
      "text/plain": [
       "longitude     -112.679055\n",
       "latitude        30.710031\n",
       "NDVI            -0.192100\n",
       "MaxTemp        -14.708333\n",
       "AveTemp         -9.266667\n",
       "MinTemp        -10.083333\n",
       "AveHumidity    -56.762500\n",
       "Rainfall        -0.190833\n",
       "Crop_Type        0.000000\n",
       "dtype: float64"
      ]
     },
     "execution_count": 16,
     "metadata": {},
     "output_type": "execute_result"
    }
   ],
   "source": [
    "#for minimum value\n",
    "df.min()"
   ]
  },
  {
   "cell_type": "code",
   "execution_count": 17,
   "id": "986a5ee3",
   "metadata": {},
   "outputs": [
    {
     "data": {
      "text/plain": [
       "longitude     -81.714127\n",
       "latitude       48.997484\n",
       "NDVI            0.994000\n",
       "MaxTemp        31.500000\n",
       "AveTemp        27.479167\n",
       "MinTemp        23.625000\n",
       "AveHumidity    86.613636\n",
       "Rainfall        6.825161\n",
       "Crop_Type       6.000000\n",
       "dtype: float64"
      ]
     },
     "execution_count": 17,
     "metadata": {},
     "output_type": "execute_result"
    }
   ],
   "source": [
    "#for maximum value\n",
    "df.max()"
   ]
  },
  {
   "cell_type": "code",
   "execution_count": 137,
   "id": "7ce9964d",
   "metadata": {},
   "outputs": [
    {
     "data": {
      "text/html": [
       "<div>\n",
       "<style scoped>\n",
       "    .dataframe tbody tr th:only-of-type {\n",
       "        vertical-align: middle;\n",
       "    }\n",
       "\n",
       "    .dataframe tbody tr th {\n",
       "        vertical-align: top;\n",
       "    }\n",
       "\n",
       "    .dataframe thead th {\n",
       "        text-align: right;\n",
       "    }\n",
       "</style>\n",
       "<table border=\"1\" class=\"dataframe\">\n",
       "  <thead>\n",
       "    <tr style=\"text-align: right;\">\n",
       "      <th></th>\n",
       "      <th>longitude</th>\n",
       "      <th>latitude</th>\n",
       "      <th>NDVI</th>\n",
       "      <th>Max Temp</th>\n",
       "      <th>Ave Temp</th>\n",
       "      <th>Min Temp</th>\n",
       "      <th>Ave Humidity</th>\n",
       "      <th>Rainfall</th>\n",
       "      <th>Crop_Type</th>\n",
       "    </tr>\n",
       "  </thead>\n",
       "  <tbody>\n",
       "    <tr>\n",
       "      <th>0</th>\n",
       "      <td>-88.707511</td>\n",
       "      <td>41.815454</td>\n",
       "      <td>0.2518</td>\n",
       "      <td>1.705882</td>\n",
       "      <td>-1.476471</td>\n",
       "      <td>-5.411765</td>\n",
       "      <td>85.888235</td>\n",
       "      <td>1.673529</td>\n",
       "      <td>corn</td>\n",
       "    </tr>\n",
       "    <tr>\n",
       "      <th>1</th>\n",
       "      <td>-88.707511</td>\n",
       "      <td>41.815454</td>\n",
       "      <td>0.3869</td>\n",
       "      <td>1.705882</td>\n",
       "      <td>-1.476471</td>\n",
       "      <td>-5.411765</td>\n",
       "      <td>85.888235</td>\n",
       "      <td>1.673529</td>\n",
       "      <td>corn</td>\n",
       "    </tr>\n",
       "    <tr>\n",
       "      <th>2</th>\n",
       "      <td>-88.707511</td>\n",
       "      <td>41.815454</td>\n",
       "      <td>0.2607</td>\n",
       "      <td>7.857143</td>\n",
       "      <td>1.678571</td>\n",
       "      <td>-4.142857</td>\n",
       "      <td>77.725000</td>\n",
       "      <td>0.516786</td>\n",
       "      <td>corn</td>\n",
       "    </tr>\n",
       "    <tr>\n",
       "      <th>4</th>\n",
       "      <td>-88.707511</td>\n",
       "      <td>41.815454</td>\n",
       "      <td>0.2536</td>\n",
       "      <td>6.576923</td>\n",
       "      <td>2.757692</td>\n",
       "      <td>-1.153846</td>\n",
       "      <td>74.657692</td>\n",
       "      <td>1.993077</td>\n",
       "      <td>corn</td>\n",
       "    </tr>\n",
       "    <tr>\n",
       "      <th>5</th>\n",
       "      <td>-88.707511</td>\n",
       "      <td>41.815454</td>\n",
       "      <td>0.2364</td>\n",
       "      <td>6.576923</td>\n",
       "      <td>2.757692</td>\n",
       "      <td>-1.153846</td>\n",
       "      <td>74.657692</td>\n",
       "      <td>1.993077</td>\n",
       "      <td>corn</td>\n",
       "    </tr>\n",
       "    <tr>\n",
       "      <th>...</th>\n",
       "      <td>...</td>\n",
       "      <td>...</td>\n",
       "      <td>...</td>\n",
       "      <td>...</td>\n",
       "      <td>...</td>\n",
       "      <td>...</td>\n",
       "      <td>...</td>\n",
       "      <td>...</td>\n",
       "      <td>...</td>\n",
       "    </tr>\n",
       "    <tr>\n",
       "      <th>1125063</th>\n",
       "      <td>-111.014926</td>\n",
       "      <td>47.373779</td>\n",
       "      <td>0.2333</td>\n",
       "      <td>23.580645</td>\n",
       "      <td>18.361290</td>\n",
       "      <td>13.451613</td>\n",
       "      <td>70.741935</td>\n",
       "      <td>3.170645</td>\n",
       "      <td>barley</td>\n",
       "    </tr>\n",
       "    <tr>\n",
       "      <th>1125064</th>\n",
       "      <td>-111.014926</td>\n",
       "      <td>47.373779</td>\n",
       "      <td>-0.0498</td>\n",
       "      <td>18.466667</td>\n",
       "      <td>13.146667</td>\n",
       "      <td>8.500000</td>\n",
       "      <td>75.506667</td>\n",
       "      <td>0.880667</td>\n",
       "      <td>barley</td>\n",
       "    </tr>\n",
       "    <tr>\n",
       "      <th>1125065</th>\n",
       "      <td>-111.014926</td>\n",
       "      <td>47.373779</td>\n",
       "      <td>0.2489</td>\n",
       "      <td>18.466667</td>\n",
       "      <td>13.146667</td>\n",
       "      <td>8.500000</td>\n",
       "      <td>75.506667</td>\n",
       "      <td>0.880667</td>\n",
       "      <td>barley</td>\n",
       "    </tr>\n",
       "    <tr>\n",
       "      <th>1125066</th>\n",
       "      <td>-111.014926</td>\n",
       "      <td>47.373779</td>\n",
       "      <td>0.2728</td>\n",
       "      <td>12.000000</td>\n",
       "      <td>7.858065</td>\n",
       "      <td>4.225806</td>\n",
       "      <td>75.577419</td>\n",
       "      <td>3.589032</td>\n",
       "      <td>barley</td>\n",
       "    </tr>\n",
       "    <tr>\n",
       "      <th>1125067</th>\n",
       "      <td>-111.014926</td>\n",
       "      <td>47.373779</td>\n",
       "      <td>-0.0222</td>\n",
       "      <td>12.000000</td>\n",
       "      <td>7.858065</td>\n",
       "      <td>4.225806</td>\n",
       "      <td>75.577419</td>\n",
       "      <td>3.589032</td>\n",
       "      <td>barley</td>\n",
       "    </tr>\n",
       "  </tbody>\n",
       "</table>\n",
       "<p>1125067 rows × 9 columns</p>\n",
       "</div>"
      ],
      "text/plain": [
       "          longitude   latitude    NDVI   Max Temp   Ave Temp   Min Temp  \\\n",
       "0        -88.707511  41.815454  0.2518   1.705882  -1.476471  -5.411765   \n",
       "1        -88.707511  41.815454  0.3869   1.705882  -1.476471  -5.411765   \n",
       "2        -88.707511  41.815454  0.2607   7.857143   1.678571  -4.142857   \n",
       "4        -88.707511  41.815454  0.2536   6.576923   2.757692  -1.153846   \n",
       "5        -88.707511  41.815454  0.2364   6.576923   2.757692  -1.153846   \n",
       "...             ...        ...     ...        ...        ...        ...   \n",
       "1125063 -111.014926  47.373779  0.2333  23.580645  18.361290  13.451613   \n",
       "1125064 -111.014926  47.373779 -0.0498  18.466667  13.146667   8.500000   \n",
       "1125065 -111.014926  47.373779  0.2489  18.466667  13.146667   8.500000   \n",
       "1125066 -111.014926  47.373779  0.2728  12.000000   7.858065   4.225806   \n",
       "1125067 -111.014926  47.373779 -0.0222  12.000000   7.858065   4.225806   \n",
       "\n",
       "         Ave Humidity  Rainfall Crop_Type  \n",
       "0           85.888235  1.673529      corn  \n",
       "1           85.888235  1.673529      corn  \n",
       "2           77.725000  0.516786      corn  \n",
       "4           74.657692  1.993077      corn  \n",
       "5           74.657692  1.993077      corn  \n",
       "...               ...       ...       ...  \n",
       "1125063     70.741935  3.170645   barley   \n",
       "1125064     75.506667  0.880667   barley   \n",
       "1125065     75.506667  0.880667   barley   \n",
       "1125066     75.577419  3.589032   barley   \n",
       "1125067     75.577419  3.589032   barley   \n",
       "\n",
       "[1125067 rows x 9 columns]"
      ]
     },
     "execution_count": 137,
     "metadata": {},
     "output_type": "execute_result"
    }
   ],
   "source": [
    "# #for drop a row\n",
    "# #this means it drop row number 3 , for drop a row we use axis is 0\n",
    "# df.drop(index=3,axis=0)"
   ]
  },
  {
   "cell_type": "code",
   "execution_count": 138,
   "id": "d547cbeb",
   "metadata": {},
   "outputs": [
    {
     "data": {
      "text/html": [
       "<div>\n",
       "<style scoped>\n",
       "    .dataframe tbody tr th:only-of-type {\n",
       "        vertical-align: middle;\n",
       "    }\n",
       "\n",
       "    .dataframe tbody tr th {\n",
       "        vertical-align: top;\n",
       "    }\n",
       "\n",
       "    .dataframe thead th {\n",
       "        text-align: right;\n",
       "    }\n",
       "</style>\n",
       "<table border=\"1\" class=\"dataframe\">\n",
       "  <thead>\n",
       "    <tr style=\"text-align: right;\">\n",
       "      <th></th>\n",
       "      <th>longitude</th>\n",
       "      <th>latitude</th>\n",
       "      <th>NDVI</th>\n",
       "      <th>Max Temp</th>\n",
       "      <th>Ave Temp</th>\n",
       "      <th>Ave Humidity</th>\n",
       "      <th>Rainfall</th>\n",
       "      <th>Crop_Type</th>\n",
       "    </tr>\n",
       "  </thead>\n",
       "  <tbody>\n",
       "    <tr>\n",
       "      <th>0</th>\n",
       "      <td>-88.707511</td>\n",
       "      <td>41.815454</td>\n",
       "      <td>0.2518</td>\n",
       "      <td>1.705882</td>\n",
       "      <td>-1.476471</td>\n",
       "      <td>85.888235</td>\n",
       "      <td>1.673529</td>\n",
       "      <td>corn</td>\n",
       "    </tr>\n",
       "    <tr>\n",
       "      <th>1</th>\n",
       "      <td>-88.707511</td>\n",
       "      <td>41.815454</td>\n",
       "      <td>0.3869</td>\n",
       "      <td>1.705882</td>\n",
       "      <td>-1.476471</td>\n",
       "      <td>85.888235</td>\n",
       "      <td>1.673529</td>\n",
       "      <td>corn</td>\n",
       "    </tr>\n",
       "    <tr>\n",
       "      <th>2</th>\n",
       "      <td>-88.707511</td>\n",
       "      <td>41.815454</td>\n",
       "      <td>0.2607</td>\n",
       "      <td>7.857143</td>\n",
       "      <td>1.678571</td>\n",
       "      <td>77.725000</td>\n",
       "      <td>0.516786</td>\n",
       "      <td>corn</td>\n",
       "    </tr>\n",
       "    <tr>\n",
       "      <th>3</th>\n",
       "      <td>-88.707511</td>\n",
       "      <td>41.815454</td>\n",
       "      <td>0.2353</td>\n",
       "      <td>7.857143</td>\n",
       "      <td>1.678571</td>\n",
       "      <td>77.725000</td>\n",
       "      <td>0.516786</td>\n",
       "      <td>corn</td>\n",
       "    </tr>\n",
       "    <tr>\n",
       "      <th>4</th>\n",
       "      <td>-88.707511</td>\n",
       "      <td>41.815454</td>\n",
       "      <td>0.2536</td>\n",
       "      <td>6.576923</td>\n",
       "      <td>2.757692</td>\n",
       "      <td>74.657692</td>\n",
       "      <td>1.993077</td>\n",
       "      <td>corn</td>\n",
       "    </tr>\n",
       "    <tr>\n",
       "      <th>...</th>\n",
       "      <td>...</td>\n",
       "      <td>...</td>\n",
       "      <td>...</td>\n",
       "      <td>...</td>\n",
       "      <td>...</td>\n",
       "      <td>...</td>\n",
       "      <td>...</td>\n",
       "      <td>...</td>\n",
       "    </tr>\n",
       "    <tr>\n",
       "      <th>1125063</th>\n",
       "      <td>-111.014926</td>\n",
       "      <td>47.373779</td>\n",
       "      <td>0.2333</td>\n",
       "      <td>23.580645</td>\n",
       "      <td>18.361290</td>\n",
       "      <td>70.741935</td>\n",
       "      <td>3.170645</td>\n",
       "      <td>barley</td>\n",
       "    </tr>\n",
       "    <tr>\n",
       "      <th>1125064</th>\n",
       "      <td>-111.014926</td>\n",
       "      <td>47.373779</td>\n",
       "      <td>-0.0498</td>\n",
       "      <td>18.466667</td>\n",
       "      <td>13.146667</td>\n",
       "      <td>75.506667</td>\n",
       "      <td>0.880667</td>\n",
       "      <td>barley</td>\n",
       "    </tr>\n",
       "    <tr>\n",
       "      <th>1125065</th>\n",
       "      <td>-111.014926</td>\n",
       "      <td>47.373779</td>\n",
       "      <td>0.2489</td>\n",
       "      <td>18.466667</td>\n",
       "      <td>13.146667</td>\n",
       "      <td>75.506667</td>\n",
       "      <td>0.880667</td>\n",
       "      <td>barley</td>\n",
       "    </tr>\n",
       "    <tr>\n",
       "      <th>1125066</th>\n",
       "      <td>-111.014926</td>\n",
       "      <td>47.373779</td>\n",
       "      <td>0.2728</td>\n",
       "      <td>12.000000</td>\n",
       "      <td>7.858065</td>\n",
       "      <td>75.577419</td>\n",
       "      <td>3.589032</td>\n",
       "      <td>barley</td>\n",
       "    </tr>\n",
       "    <tr>\n",
       "      <th>1125067</th>\n",
       "      <td>-111.014926</td>\n",
       "      <td>47.373779</td>\n",
       "      <td>-0.0222</td>\n",
       "      <td>12.000000</td>\n",
       "      <td>7.858065</td>\n",
       "      <td>75.577419</td>\n",
       "      <td>3.589032</td>\n",
       "      <td>barley</td>\n",
       "    </tr>\n",
       "  </tbody>\n",
       "</table>\n",
       "<p>1125068 rows × 8 columns</p>\n",
       "</div>"
      ],
      "text/plain": [
       "          longitude   latitude    NDVI   Max Temp   Ave Temp  Ave Humidity  \\\n",
       "0        -88.707511  41.815454  0.2518   1.705882  -1.476471     85.888235   \n",
       "1        -88.707511  41.815454  0.3869   1.705882  -1.476471     85.888235   \n",
       "2        -88.707511  41.815454  0.2607   7.857143   1.678571     77.725000   \n",
       "3        -88.707511  41.815454  0.2353   7.857143   1.678571     77.725000   \n",
       "4        -88.707511  41.815454  0.2536   6.576923   2.757692     74.657692   \n",
       "...             ...        ...     ...        ...        ...           ...   \n",
       "1125063 -111.014926  47.373779  0.2333  23.580645  18.361290     70.741935   \n",
       "1125064 -111.014926  47.373779 -0.0498  18.466667  13.146667     75.506667   \n",
       "1125065 -111.014926  47.373779  0.2489  18.466667  13.146667     75.506667   \n",
       "1125066 -111.014926  47.373779  0.2728  12.000000   7.858065     75.577419   \n",
       "1125067 -111.014926  47.373779 -0.0222  12.000000   7.858065     75.577419   \n",
       "\n",
       "         Rainfall Crop_Type  \n",
       "0        1.673529      corn  \n",
       "1        1.673529      corn  \n",
       "2        0.516786      corn  \n",
       "3        0.516786      corn  \n",
       "4        1.993077      corn  \n",
       "...           ...       ...  \n",
       "1125063  3.170645   barley   \n",
       "1125064  0.880667   barley   \n",
       "1125065  0.880667   barley   \n",
       "1125066  3.589032   barley   \n",
       "1125067  3.589032   barley   \n",
       "\n",
       "[1125068 rows x 8 columns]"
      ]
     },
     "execution_count": 138,
     "metadata": {},
     "output_type": "execute_result"
    }
   ],
   "source": [
    "# #for drop a columns\n",
    "# #this means it drop columns name , for drop a culumns we use axis is 1\n",
    "# df.drop(columns='Min Temp',axis=1)"
   ]
  },
  {
   "cell_type": "code",
   "execution_count": 139,
   "id": "b03177b9",
   "metadata": {},
   "outputs": [
    {
     "data": {
      "text/plain": [
       "longitude      -88.707511\n",
       "latitude        41.815454\n",
       "NDVI               0.2536\n",
       "Max Temp         6.576923\n",
       "Ave Temp         2.757692\n",
       "Min Temp        -1.153846\n",
       "Ave Humidity    74.657692\n",
       "Rainfall         1.993077\n",
       "Crop_Type            corn\n",
       "Name: 4, dtype: object"
      ]
     },
     "execution_count": 139,
     "metadata": {},
     "output_type": "execute_result"
    }
   ],
   "source": [
    "# for print a specific row we use\n",
    "df.iloc[4]"
   ]
  },
  {
   "cell_type": "code",
   "execution_count": 140,
   "id": "bfe8d877",
   "metadata": {},
   "outputs": [
    {
     "data": {
      "text/plain": [
       "0             corn\n",
       "1             corn\n",
       "2             corn\n",
       "3             corn\n",
       "4             corn\n",
       "            ...   \n",
       "1125063    barley \n",
       "1125064    barley \n",
       "1125065    barley \n",
       "1125066    barley \n",
       "1125067    barley \n",
       "Name: Crop_Type, Length: 1125068, dtype: object"
      ]
     },
     "execution_count": 140,
     "metadata": {},
     "output_type": "execute_result"
    }
   ],
   "source": [
    "#for print specific columns\n",
    "df.iloc[:,1] # for first columns\n",
    "df.iloc[:,2] # for second columns\n",
    "df.iloc[:,-1] # for last columns\n"
   ]
  },
  {
   "cell_type": "code",
   "execution_count": 141,
   "id": "65cd5a06",
   "metadata": {},
   "outputs": [
    {
     "data": {
      "text/html": [
       "<div>\n",
       "<style scoped>\n",
       "    .dataframe tbody tr th:only-of-type {\n",
       "        vertical-align: middle;\n",
       "    }\n",
       "\n",
       "    .dataframe tbody tr th {\n",
       "        vertical-align: top;\n",
       "    }\n",
       "\n",
       "    .dataframe thead th {\n",
       "        text-align: right;\n",
       "    }\n",
       "</style>\n",
       "<table border=\"1\" class=\"dataframe\">\n",
       "  <thead>\n",
       "    <tr style=\"text-align: right;\">\n",
       "      <th></th>\n",
       "      <th>longitude</th>\n",
       "      <th>latitude</th>\n",
       "      <th>NDVI</th>\n",
       "      <th>Max Temp</th>\n",
       "      <th>Ave Temp</th>\n",
       "      <th>Min Temp</th>\n",
       "      <th>Ave Humidity</th>\n",
       "      <th>Rainfall</th>\n",
       "    </tr>\n",
       "  </thead>\n",
       "  <tbody>\n",
       "    <tr>\n",
       "      <th>longitude</th>\n",
       "      <td>1.000000</td>\n",
       "      <td>-0.542726</td>\n",
       "      <td>0.361529</td>\n",
       "      <td>-0.084084</td>\n",
       "      <td>-0.084662</td>\n",
       "      <td>-0.097699</td>\n",
       "      <td>0.309922</td>\n",
       "      <td>-0.161185</td>\n",
       "    </tr>\n",
       "    <tr>\n",
       "      <th>latitude</th>\n",
       "      <td>-0.542726</td>\n",
       "      <td>1.000000</td>\n",
       "      <td>-0.259315</td>\n",
       "      <td>-0.145154</td>\n",
       "      <td>-0.098597</td>\n",
       "      <td>-0.061425</td>\n",
       "      <td>0.217197</td>\n",
       "      <td>0.052094</td>\n",
       "    </tr>\n",
       "    <tr>\n",
       "      <th>NDVI</th>\n",
       "      <td>0.361529</td>\n",
       "      <td>-0.259315</td>\n",
       "      <td>1.000000</td>\n",
       "      <td>0.546387</td>\n",
       "      <td>0.565098</td>\n",
       "      <td>0.565724</td>\n",
       "      <td>0.190643</td>\n",
       "      <td>0.082784</td>\n",
       "    </tr>\n",
       "    <tr>\n",
       "      <th>Max Temp</th>\n",
       "      <td>-0.084084</td>\n",
       "      <td>-0.145154</td>\n",
       "      <td>0.546387</td>\n",
       "      <td>1.000000</td>\n",
       "      <td>0.988281</td>\n",
       "      <td>0.953196</td>\n",
       "      <td>0.138069</td>\n",
       "      <td>0.382922</td>\n",
       "    </tr>\n",
       "    <tr>\n",
       "      <th>Ave Temp</th>\n",
       "      <td>-0.084662</td>\n",
       "      <td>-0.098597</td>\n",
       "      <td>0.565098</td>\n",
       "      <td>0.988281</td>\n",
       "      <td>1.000000</td>\n",
       "      <td>0.986913</td>\n",
       "      <td>0.133317</td>\n",
       "      <td>0.386208</td>\n",
       "    </tr>\n",
       "    <tr>\n",
       "      <th>Min Temp</th>\n",
       "      <td>-0.097699</td>\n",
       "      <td>-0.061425</td>\n",
       "      <td>0.565724</td>\n",
       "      <td>0.953196</td>\n",
       "      <td>0.986913</td>\n",
       "      <td>1.000000</td>\n",
       "      <td>0.116980</td>\n",
       "      <td>0.402712</td>\n",
       "    </tr>\n",
       "    <tr>\n",
       "      <th>Ave Humidity</th>\n",
       "      <td>0.309922</td>\n",
       "      <td>0.217197</td>\n",
       "      <td>0.190643</td>\n",
       "      <td>0.138069</td>\n",
       "      <td>0.133317</td>\n",
       "      <td>0.116980</td>\n",
       "      <td>1.000000</td>\n",
       "      <td>0.157857</td>\n",
       "    </tr>\n",
       "    <tr>\n",
       "      <th>Rainfall</th>\n",
       "      <td>-0.161185</td>\n",
       "      <td>0.052094</td>\n",
       "      <td>0.082784</td>\n",
       "      <td>0.382922</td>\n",
       "      <td>0.386208</td>\n",
       "      <td>0.402712</td>\n",
       "      <td>0.157857</td>\n",
       "      <td>1.000000</td>\n",
       "    </tr>\n",
       "  </tbody>\n",
       "</table>\n",
       "</div>"
      ],
      "text/plain": [
       "              longitude  latitude      NDVI  Max Temp  Ave Temp  Min Temp  \\\n",
       "longitude      1.000000 -0.542726  0.361529 -0.084084 -0.084662 -0.097699   \n",
       "latitude      -0.542726  1.000000 -0.259315 -0.145154 -0.098597 -0.061425   \n",
       "NDVI           0.361529 -0.259315  1.000000  0.546387  0.565098  0.565724   \n",
       "Max Temp      -0.084084 -0.145154  0.546387  1.000000  0.988281  0.953196   \n",
       "Ave Temp      -0.084662 -0.098597  0.565098  0.988281  1.000000  0.986913   \n",
       "Min Temp      -0.097699 -0.061425  0.565724  0.953196  0.986913  1.000000   \n",
       "Ave Humidity   0.309922  0.217197  0.190643  0.138069  0.133317  0.116980   \n",
       "Rainfall      -0.161185  0.052094  0.082784  0.382922  0.386208  0.402712   \n",
       "\n",
       "              Ave Humidity  Rainfall  \n",
       "longitude         0.309922 -0.161185  \n",
       "latitude          0.217197  0.052094  \n",
       "NDVI              0.190643  0.082784  \n",
       "Max Temp          0.138069  0.382922  \n",
       "Ave Temp          0.133317  0.386208  \n",
       "Min Temp          0.116980  0.402712  \n",
       "Ave Humidity      1.000000  0.157857  \n",
       "Rainfall          0.157857  1.000000  "
      ]
     },
     "execution_count": 141,
     "metadata": {},
     "output_type": "execute_result"
    }
   ],
   "source": [
    "#for correlation means relationship between two columns -> generally used in regression\n",
    "df.corr()"
   ]
  },
  {
   "cell_type": "code",
   "execution_count": 45,
   "id": "71e16e43",
   "metadata": {},
   "outputs": [
    {
     "data": {
      "text/html": [
       "<div>\n",
       "<style scoped>\n",
       "    .dataframe tbody tr th:only-of-type {\n",
       "        vertical-align: middle;\n",
       "    }\n",
       "\n",
       "    .dataframe tbody tr th {\n",
       "        vertical-align: top;\n",
       "    }\n",
       "\n",
       "    .dataframe thead th {\n",
       "        text-align: right;\n",
       "    }\n",
       "</style>\n",
       "<table border=\"1\" class=\"dataframe\">\n",
       "  <thead>\n",
       "    <tr style=\"text-align: right;\">\n",
       "      <th></th>\n",
       "      <th>longitude</th>\n",
       "      <th>latitude</th>\n",
       "      <th>NDVI</th>\n",
       "      <th>Max Temp</th>\n",
       "      <th>Ave Temp</th>\n",
       "      <th>Min Temp</th>\n",
       "      <th>Ave Humidity</th>\n",
       "      <th>Rainfall</th>\n",
       "    </tr>\n",
       "    <tr>\n",
       "      <th>Crop_Type</th>\n",
       "      <th></th>\n",
       "      <th></th>\n",
       "      <th></th>\n",
       "      <th></th>\n",
       "      <th></th>\n",
       "      <th></th>\n",
       "      <th></th>\n",
       "      <th></th>\n",
       "    </tr>\n",
       "  </thead>\n",
       "  <tbody>\n",
       "    <tr>\n",
       "      <th>barley</th>\n",
       "      <td>-110.841006</td>\n",
       "      <td>47.835212</td>\n",
       "      <td>0.235331</td>\n",
       "      <td>22.970353</td>\n",
       "      <td>18.115790</td>\n",
       "      <td>13.719989</td>\n",
       "      <td>69.945016</td>\n",
       "      <td>3.623649</td>\n",
       "    </tr>\n",
       "    <tr>\n",
       "      <th>barley</th>\n",
       "      <td>-110.952779</td>\n",
       "      <td>47.887583</td>\n",
       "      <td>0.235396</td>\n",
       "      <td>22.970353</td>\n",
       "      <td>18.115790</td>\n",
       "      <td>13.719989</td>\n",
       "      <td>69.945016</td>\n",
       "      <td>3.623649</td>\n",
       "    </tr>\n",
       "    <tr>\n",
       "      <th>corn</th>\n",
       "      <td>-91.590901</td>\n",
       "      <td>41.469000</td>\n",
       "      <td>0.426832</td>\n",
       "      <td>14.721269</td>\n",
       "      <td>9.982628</td>\n",
       "      <td>4.715796</td>\n",
       "      <td>76.984926</td>\n",
       "      <td>1.441825</td>\n",
       "    </tr>\n",
       "    <tr>\n",
       "      <th>cotton</th>\n",
       "      <td>-92.590345</td>\n",
       "      <td>33.755038</td>\n",
       "      <td>0.453899</td>\n",
       "      <td>21.977489</td>\n",
       "      <td>16.212095</td>\n",
       "      <td>10.900855</td>\n",
       "      <td>66.683535</td>\n",
       "      <td>1.968689</td>\n",
       "    </tr>\n",
       "    <tr>\n",
       "      <th>soy</th>\n",
       "      <td>-91.440834</td>\n",
       "      <td>41.162321</td>\n",
       "      <td>0.408546</td>\n",
       "      <td>14.721269</td>\n",
       "      <td>9.982628</td>\n",
       "      <td>4.715796</td>\n",
       "      <td>76.984926</td>\n",
       "      <td>1.441825</td>\n",
       "    </tr>\n",
       "    <tr>\n",
       "      <th>spring wheat</th>\n",
       "      <td>-100.683388</td>\n",
       "      <td>47.082037</td>\n",
       "      <td>0.269641</td>\n",
       "      <td>13.058256</td>\n",
       "      <td>8.762888</td>\n",
       "      <td>4.131962</td>\n",
       "      <td>71.583926</td>\n",
       "      <td>0.896004</td>\n",
       "    </tr>\n",
       "    <tr>\n",
       "      <th>winter wheat</th>\n",
       "      <td>-103.382219</td>\n",
       "      <td>38.930575</td>\n",
       "      <td>0.247719</td>\n",
       "      <td>16.258803</td>\n",
       "      <td>10.339020</td>\n",
       "      <td>4.309366</td>\n",
       "      <td>45.273019</td>\n",
       "      <td>0.972150</td>\n",
       "    </tr>\n",
       "  </tbody>\n",
       "</table>\n",
       "</div>"
      ],
      "text/plain": [
       "               longitude   latitude      NDVI   Max Temp   Ave Temp  \\\n",
       "Crop_Type                                                             \n",
       "barley       -110.841006  47.835212  0.235331  22.970353  18.115790   \n",
       "barley       -110.952779  47.887583  0.235396  22.970353  18.115790   \n",
       "corn          -91.590901  41.469000  0.426832  14.721269   9.982628   \n",
       "cotton        -92.590345  33.755038  0.453899  21.977489  16.212095   \n",
       "soy           -91.440834  41.162321  0.408546  14.721269   9.982628   \n",
       "spring wheat -100.683388  47.082037  0.269641  13.058256   8.762888   \n",
       "winter wheat -103.382219  38.930575  0.247719  16.258803  10.339020   \n",
       "\n",
       "               Min Temp  Ave Humidity  Rainfall  \n",
       "Crop_Type                                        \n",
       "barley        13.719989     69.945016  3.623649  \n",
       "barley        13.719989     69.945016  3.623649  \n",
       "corn           4.715796     76.984926  1.441825  \n",
       "cotton        10.900855     66.683535  1.968689  \n",
       "soy            4.715796     76.984926  1.441825  \n",
       "spring wheat   4.131962     71.583926  0.896004  \n",
       "winter wheat   4.309366     45.273019  0.972150  "
      ]
     },
     "execution_count": 45,
     "metadata": {},
     "output_type": "execute_result"
    }
   ],
   "source": [
    "#group the values based on means\n",
    "df.groupby('Crop_Type').mean()"
   ]
  },
  {
   "cell_type": "code",
   "execution_count": 16,
   "id": "abc28de2",
   "metadata": {},
   "outputs": [
    {
     "data": {
      "text/plain": [
       "(1125068, 9)"
      ]
     },
     "execution_count": 16,
     "metadata": {},
     "output_type": "execute_result"
    }
   ],
   "source": [
    "#check the dimension of dataset\n",
    "df.shape"
   ]
  },
  {
   "cell_type": "code",
   "execution_count": 18,
   "id": "00d20d8e",
   "metadata": {},
   "outputs": [],
   "source": [
    "# delete duplicate rows\n",
    "df.drop_duplicates(inplace=True)"
   ]
  },
  {
   "cell_type": "code",
   "execution_count": 18,
   "id": "a14219f6",
   "metadata": {},
   "outputs": [
    {
     "data": {
      "text/plain": [
       "(1116909, 9)"
      ]
     },
     "execution_count": 18,
     "metadata": {},
     "output_type": "execute_result"
    }
   ],
   "source": [
    "#check the dimension of dataset\n",
    "df.shape"
   ]
  },
  {
   "cell_type": "code",
   "execution_count": 19,
   "id": "345af63d",
   "metadata": {},
   "outputs": [
    {
     "data": {
      "text/html": [
       "<div>\n",
       "<style scoped>\n",
       "    .dataframe tbody tr th:only-of-type {\n",
       "        vertical-align: middle;\n",
       "    }\n",
       "\n",
       "    .dataframe tbody tr th {\n",
       "        vertical-align: top;\n",
       "    }\n",
       "\n",
       "    .dataframe thead th {\n",
       "        text-align: right;\n",
       "    }\n",
       "</style>\n",
       "<table border=\"1\" class=\"dataframe\">\n",
       "  <thead>\n",
       "    <tr style=\"text-align: right;\">\n",
       "      <th></th>\n",
       "      <th>longitude</th>\n",
       "      <th>latitude</th>\n",
       "      <th>NDVI</th>\n",
       "      <th>MaxTemp</th>\n",
       "      <th>AveTemp</th>\n",
       "      <th>MinTemp</th>\n",
       "      <th>AveHumidity</th>\n",
       "      <th>Rainfall</th>\n",
       "      <th>Crop_Type</th>\n",
       "    </tr>\n",
       "  </thead>\n",
       "  <tbody>\n",
       "    <tr>\n",
       "      <th>count</th>\n",
       "      <td>1.116909e+06</td>\n",
       "      <td>1.116909e+06</td>\n",
       "      <td>1.116909e+06</td>\n",
       "      <td>1.116909e+06</td>\n",
       "      <td>1.116909e+06</td>\n",
       "      <td>1.116909e+06</td>\n",
       "      <td>1.116909e+06</td>\n",
       "      <td>1.116909e+06</td>\n",
       "      <td>1.116909e+06</td>\n",
       "    </tr>\n",
       "    <tr>\n",
       "      <th>mean</th>\n",
       "      <td>-9.732438e+01</td>\n",
       "      <td>4.131300e+01</td>\n",
       "      <td>3.510338e-01</td>\n",
       "      <td>1.685842e+01</td>\n",
       "      <td>1.181526e+01</td>\n",
       "      <td>6.629374e+00</td>\n",
       "      <td>6.836212e+01</td>\n",
       "      <td>1.594675e+00</td>\n",
       "      <td>3.602779e+00</td>\n",
       "    </tr>\n",
       "    <tr>\n",
       "      <th>std</th>\n",
       "      <td>7.594260e+00</td>\n",
       "      <td>4.843454e+00</td>\n",
       "      <td>2.305099e-01</td>\n",
       "      <td>9.433586e+00</td>\n",
       "      <td>9.163612e+00</td>\n",
       "      <td>9.224530e+00</td>\n",
       "      <td>1.477879e+01</td>\n",
       "      <td>1.552961e+00</td>\n",
       "      <td>1.648776e+00</td>\n",
       "    </tr>\n",
       "    <tr>\n",
       "      <th>min</th>\n",
       "      <td>-1.126791e+02</td>\n",
       "      <td>3.071003e+01</td>\n",
       "      <td>-1.921000e-01</td>\n",
       "      <td>-1.470833e+01</td>\n",
       "      <td>-9.266667e+00</td>\n",
       "      <td>-1.008333e+01</td>\n",
       "      <td>-5.676250e+01</td>\n",
       "      <td>-1.908333e-01</td>\n",
       "      <td>0.000000e+00</td>\n",
       "    </tr>\n",
       "    <tr>\n",
       "      <th>25%</th>\n",
       "      <td>-1.023260e+02</td>\n",
       "      <td>3.840410e+01</td>\n",
       "      <td>2.231000e-01</td>\n",
       "      <td>8.645161e+00</td>\n",
       "      <td>2.757692e+00</td>\n",
       "      <td>-2.750000e+00</td>\n",
       "      <td>6.518000e+01</td>\n",
       "      <td>2.647826e-01</td>\n",
       "      <td>2.000000e+00</td>\n",
       "    </tr>\n",
       "    <tr>\n",
       "      <th>50%</th>\n",
       "      <td>-9.846097e+01</td>\n",
       "      <td>4.117990e+01</td>\n",
       "      <td>2.762000e-01</td>\n",
       "      <td>1.846667e+01</td>\n",
       "      <td>1.314667e+01</td>\n",
       "      <td>7.714286e+00</td>\n",
       "      <td>7.146452e+01</td>\n",
       "      <td>1.204074e+00</td>\n",
       "      <td>4.000000e+00</td>\n",
       "    </tr>\n",
       "    <tr>\n",
       "      <th>75%</th>\n",
       "      <td>-9.047944e+01</td>\n",
       "      <td>4.630703e+01</td>\n",
       "      <td>4.339000e-01</td>\n",
       "      <td>2.421429e+01</td>\n",
       "      <td>1.913214e+01</td>\n",
       "      <td>1.414286e+01</td>\n",
       "      <td>7.567600e+01</td>\n",
       "      <td>2.506333e+00</td>\n",
       "      <td>5.000000e+00</td>\n",
       "    </tr>\n",
       "    <tr>\n",
       "      <th>max</th>\n",
       "      <td>-8.171413e+01</td>\n",
       "      <td>4.899748e+01</td>\n",
       "      <td>9.940000e-01</td>\n",
       "      <td>3.150000e+01</td>\n",
       "      <td>2.747917e+01</td>\n",
       "      <td>2.362500e+01</td>\n",
       "      <td>8.661364e+01</td>\n",
       "      <td>6.825161e+00</td>\n",
       "      <td>6.000000e+00</td>\n",
       "    </tr>\n",
       "  </tbody>\n",
       "</table>\n",
       "</div>"
      ],
      "text/plain": [
       "          longitude      latitude          NDVI       MaxTemp       AveTemp  \\\n",
       "count  1.116909e+06  1.116909e+06  1.116909e+06  1.116909e+06  1.116909e+06   \n",
       "mean  -9.732438e+01  4.131300e+01  3.510338e-01  1.685842e+01  1.181526e+01   \n",
       "std    7.594260e+00  4.843454e+00  2.305099e-01  9.433586e+00  9.163612e+00   \n",
       "min   -1.126791e+02  3.071003e+01 -1.921000e-01 -1.470833e+01 -9.266667e+00   \n",
       "25%   -1.023260e+02  3.840410e+01  2.231000e-01  8.645161e+00  2.757692e+00   \n",
       "50%   -9.846097e+01  4.117990e+01  2.762000e-01  1.846667e+01  1.314667e+01   \n",
       "75%   -9.047944e+01  4.630703e+01  4.339000e-01  2.421429e+01  1.913214e+01   \n",
       "max   -8.171413e+01  4.899748e+01  9.940000e-01  3.150000e+01  2.747917e+01   \n",
       "\n",
       "            MinTemp   AveHumidity      Rainfall     Crop_Type  \n",
       "count  1.116909e+06  1.116909e+06  1.116909e+06  1.116909e+06  \n",
       "mean   6.629374e+00  6.836212e+01  1.594675e+00  3.602779e+00  \n",
       "std    9.224530e+00  1.477879e+01  1.552961e+00  1.648776e+00  \n",
       "min   -1.008333e+01 -5.676250e+01 -1.908333e-01  0.000000e+00  \n",
       "25%   -2.750000e+00  6.518000e+01  2.647826e-01  2.000000e+00  \n",
       "50%    7.714286e+00  7.146452e+01  1.204074e+00  4.000000e+00  \n",
       "75%    1.414286e+01  7.567600e+01  2.506333e+00  5.000000e+00  \n",
       "max    2.362500e+01  8.661364e+01  6.825161e+00  6.000000e+00  "
      ]
     },
     "execution_count": 19,
     "metadata": {},
     "output_type": "execute_result"
    }
   ],
   "source": [
    "df.describe()"
   ]
  },
  {
   "cell_type": "code",
   "execution_count": 20,
   "id": "8fb17e66",
   "metadata": {},
   "outputs": [
    {
     "data": {
      "text/plain": [
       "longitude      0\n",
       "latitude       0\n",
       "NDVI           0\n",
       "MaxTemp        0\n",
       "AveTemp        0\n",
       "MinTemp        0\n",
       "AveHumidity    0\n",
       "Rainfall       0\n",
       "Crop_Type      0\n",
       "dtype: int64"
      ]
     },
     "execution_count": 20,
     "metadata": {},
     "output_type": "execute_result"
    }
   ],
   "source": [
    "#Before cleaning NDVI columns have some rows which is null or give number of missing values\n",
    "df.isnull().sum()"
   ]
  },
  {
   "cell_type": "code",
   "execution_count": 21,
   "id": "9cb62c7e",
   "metadata": {},
   "outputs": [
    {
     "name": "stdout",
     "output_type": "stream",
     "text": [
      "<class 'pandas.core.frame.DataFrame'>\n",
      "Int64Index: 1116909 entries, 0 to 1125067\n",
      "Data columns (total 9 columns):\n",
      " #   Column       Non-Null Count    Dtype  \n",
      "---  ------       --------------    -----  \n",
      " 0   longitude    1116909 non-null  float64\n",
      " 1   latitude     1116909 non-null  float64\n",
      " 2   NDVI         1116909 non-null  float64\n",
      " 3   MaxTemp      1116909 non-null  float64\n",
      " 4   AveTemp      1116909 non-null  float64\n",
      " 5   MinTemp      1116909 non-null  float64\n",
      " 6   AveHumidity  1116909 non-null  float64\n",
      " 7   Rainfall     1116909 non-null  float64\n",
      " 8   Crop_Type    1116909 non-null  int32  \n",
      "dtypes: float64(8), int32(1)\n",
      "memory usage: 81.0 MB\n"
     ]
    }
   ],
   "source": [
    "df.info()"
   ]
  },
  {
   "cell_type": "code",
   "execution_count": 22,
   "id": "40607b11",
   "metadata": {},
   "outputs": [],
   "source": [
    "#to clean the data we use this function\n",
    "df=df.dropna()"
   ]
  },
  {
   "cell_type": "code",
   "execution_count": 23,
   "id": "0dfa970f",
   "metadata": {},
   "outputs": [
    {
     "data": {
      "text/plain": [
       "longitude      0\n",
       "latitude       0\n",
       "NDVI           0\n",
       "MaxTemp        0\n",
       "AveTemp        0\n",
       "MinTemp        0\n",
       "AveHumidity    0\n",
       "Rainfall       0\n",
       "Crop_Type      0\n",
       "dtype: int64"
      ]
     },
     "execution_count": 23,
     "metadata": {},
     "output_type": "execute_result"
    }
   ],
   "source": [
    "#after cleaning no rows having zeros means Null values\n",
    "df.isnull().sum()"
   ]
  },
  {
   "cell_type": "code",
   "execution_count": 24,
   "id": "7aa66caf",
   "metadata": {},
   "outputs": [
    {
     "name": "stdout",
     "output_type": "stream",
     "text": [
      "Values of features means X\n",
      "           longitude   latitude    NDVI    MaxTemp    AveTemp    MinTemp  \\\n",
      "0        -88.707511  41.815454  0.2518   1.705882  -1.476471  -5.411765   \n",
      "1        -88.707511  41.815454  0.3869   1.705882  -1.476471  -5.411765   \n",
      "2        -88.707511  41.815454  0.2607   7.857143   1.678571  -4.142857   \n",
      "3        -88.707511  41.815454  0.2353   7.857143   1.678571  -4.142857   \n",
      "4        -88.707511  41.815454  0.2536   6.576923   2.757692  -1.153846   \n",
      "...             ...        ...     ...        ...        ...        ...   \n",
      "1125063 -111.014926  47.373779  0.2333  23.580645  18.361290  13.451613   \n",
      "1125064 -111.014926  47.373779 -0.0498  18.466667  13.146667   8.500000   \n",
      "1125065 -111.014926  47.373779  0.2489  18.466667  13.146667   8.500000   \n",
      "1125066 -111.014926  47.373779  0.2728  12.000000   7.858065   4.225806   \n",
      "1125067 -111.014926  47.373779 -0.0222  12.000000   7.858065   4.225806   \n",
      "\n",
      "         AveHumidity  Rainfall  \n",
      "0          85.888235  1.673529  \n",
      "1          85.888235  1.673529  \n",
      "2          77.725000  0.516786  \n",
      "3          77.725000  0.516786  \n",
      "4          74.657692  1.993077  \n",
      "...              ...       ...  \n",
      "1125063    70.741935  3.170645  \n",
      "1125064    75.506667  0.880667  \n",
      "1125065    75.506667  0.880667  \n",
      "1125066    75.577419  3.589032  \n",
      "1125067    75.577419  3.589032  \n",
      "\n",
      "[1116909 rows x 8 columns]\n",
      "Values of output means y\n",
      " 0          2\n",
      "1          2\n",
      "2          2\n",
      "3          2\n",
      "4          2\n",
      "          ..\n",
      "1125063    1\n",
      "1125064    1\n",
      "1125065    1\n",
      "1125066    1\n",
      "1125067    1\n",
      "Name: Crop_Type, Length: 1116909, dtype: int32\n"
     ]
    }
   ],
   "source": [
    "# prepare the training set\n",
    "# X  is feature columns except the last column which is output\n",
    "X=df.iloc[:, :-1]\n",
    "# X=df.drop(columns='Crop_Type',axis=1)\n",
    "# y is output values\n",
    "y=df.iloc[:,-1]  \n",
    "#y=df['Crop_Type']\n",
    "print(\"Values of features means X\\n\",X)\n",
    "print(\"Values of output means y\\n\",y)\n"
   ]
  },
  {
   "cell_type": "code",
   "execution_count": 11,
   "id": "cd2fdd0a",
   "metadata": {},
   "outputs": [
    {
     "data": {
      "image/png": "[encoded data removed]",
      "text/plain": [
       "<Figure size 432x288 with 1 Axes>"
      ]
     },
     "metadata": {
      "needs_background": "light"
     },
     "output_type": "display_data"
    }
   ],
   "source": [
    "#plot the each feature with output crop\n",
    "plt.xlabel('Features')\n",
    "plt.ylabel('Crop types')\n",
    "\n",
    "# pltX=df.loc[:,'longitude']\n",
    "# pltY=df.loc[:,'Crop_Type']\n",
    "# plt.scatter(pltX,pltY, color='blue' ,label='longitude')\n",
    "\n",
    "# pltX=df.loc[:,'latitude']\n",
    "# pltY=df.loc[:,'Crop_Type']\n",
    "# plt.scatter(pltX,pltY, color='red' ,label='latitude')\n",
    "\n",
    "pltX=df.loc[:,'NDVI']\n",
    "pltY=df.loc[:,'Crop_Type']\n",
    "plt.scatter(pltX,pltY, color='green' ,label='NDVI')\n",
    "\n",
    "pltX=df.loc[:,'Max Temp']\n",
    "pltY=df.loc[:,'Crop_Type']\n",
    "plt.scatter(pltX,pltY, color='yellow' ,label='Max Temp')\n",
    "\n",
    "pltX=df.loc[:,'Ave Temp']\n",
    "pltY=df.loc[:,'Crop_Type']\n",
    "plt.scatter(pltX,pltY, color='purple' ,label='Ave Temp')\n",
    "\n",
    "pltX=df.loc[:,'Min Temp']\n",
    "pltY=df.loc[:,'Crop_Type']\n",
    "plt.scatter(pltX,pltY, color='violet' ,label='Min Temp')\n",
    "\n",
    "pltX=df.loc[:,'Ave Humidity']\n",
    "pltY=df.loc[:,'Crop_Type']\n",
    "plt.scatter(pltX,pltY, color='pink' ,label='Ave Humidity')\n",
    "\n",
    "\n",
    "pltX=df.loc[:,'Rainfall']\n",
    "pltY=df.loc[:,'Crop_Type']\n",
    "plt.scatter(pltX,pltY, color='black' ,label='Rainfall')\n",
    "\n",
    "plt.legend(loc=4,prop={'size':8})\n",
    "plt.show()"
   ]
  },
  {
   "cell_type": "code",
   "execution_count": 25,
   "id": "f98fca8f",
   "metadata": {},
   "outputs": [
    {
     "name": "stdout",
     "output_type": "stream",
     "text": [
      "this is dataset after converting the pandas to numpy \n",
      " [[-8.87075114e+01  4.18154536e+01  2.51800000e-01 ...  8.58882353e+01\n",
      "   1.67352941e+00  2.00000000e+00]\n",
      " [-8.87075114e+01  4.18154536e+01  3.86900000e-01 ...  8.58882353e+01\n",
      "   1.67352941e+00  2.00000000e+00]\n",
      " [-8.87075114e+01  4.18154536e+01  2.60700000e-01 ...  7.77250000e+01\n",
      "   5.16785714e-01  2.00000000e+00]\n",
      " ...\n",
      " [-1.11014926e+02  4.73737794e+01  2.48900000e-01 ...  7.55066667e+01\n",
      "   8.80666667e-01  1.00000000e+00]\n",
      " [-1.11014926e+02  4.73737794e+01  2.72800000e-01 ...  7.55774193e+01\n",
      "   3.58903226e+00  1.00000000e+00]\n",
      " [-1.11014926e+02  4.73737794e+01 -2.22000000e-02 ...  7.55774193e+01\n",
      "   3.58903226e+00  1.00000000e+00]]\n",
      "This is data type of our dataset\n",
      " <class 'numpy.ndarray'>\n"
     ]
    }
   ],
   "source": [
    "#slipt the data into training data(75%) and test data(25%)\n",
    "df= df.to_numpy()\n",
    "#converting the dataset pandas to numpy array ndarray\n",
    "print(\"this is dataset after converting the pandas to numpy \\n\",df)\n",
    "print(\"This is data type of our dataset\\n\",type(df))\n",
    "x_train,x_test,y_train,y_test=train_test_split(X,y,test_size=0.25,random_state=42)"
   ]
  },
  {
   "cell_type": "code",
   "execution_count": 26,
   "id": "160d5416",
   "metadata": {},
   "outputs": [
    {
     "ename": "TypeError",
     "evalue": "unsupported operand type(s) for +: 'float' and 'str'",
     "output_type": "error",
     "traceback": [
      "\u001b[1;31m---------------------------------------------------------------------------\u001b[0m",
      "\u001b[1;31mTypeError\u001b[0m                                 Traceback (most recent call last)",
      "Input \u001b[1;32mIn [26]\u001b[0m, in \u001b[0;36m<cell line: 2>\u001b[1;34m()\u001b[0m\n\u001b[0;32m      1\u001b[0m \u001b[38;5;66;03m#standardizing the data\u001b[39;00m\n\u001b[1;32m----> 2\u001b[0m df\u001b[38;5;241m=\u001b[39m\u001b[43mdf\u001b[49m\u001b[38;5;241;43m.\u001b[39;49m\u001b[43mstd\u001b[49m\u001b[43m(\u001b[49m\u001b[43m)\u001b[49m\n",
      "File \u001b[1;32m~\\anaconda3\\lib\\site-packages\\numpy\\core\\_methods.py:262\u001b[0m, in \u001b[0;36m_std\u001b[1;34m(a, axis, dtype, out, ddof, keepdims, where)\u001b[0m\n\u001b[0;32m    260\u001b[0m \u001b[38;5;28;01mdef\u001b[39;00m \u001b[38;5;21m_std\u001b[39m(a, axis\u001b[38;5;241m=\u001b[39m\u001b[38;5;28;01mNone\u001b[39;00m, dtype\u001b[38;5;241m=\u001b[39m\u001b[38;5;28;01mNone\u001b[39;00m, out\u001b[38;5;241m=\u001b[39m\u001b[38;5;28;01mNone\u001b[39;00m, ddof\u001b[38;5;241m=\u001b[39m\u001b[38;5;241m0\u001b[39m, keepdims\u001b[38;5;241m=\u001b[39m\u001b[38;5;28;01mFalse\u001b[39;00m, \u001b[38;5;241m*\u001b[39m,\n\u001b[0;32m    261\u001b[0m          where\u001b[38;5;241m=\u001b[39m\u001b[38;5;28;01mTrue\u001b[39;00m):\n\u001b[1;32m--> 262\u001b[0m     ret \u001b[38;5;241m=\u001b[39m \u001b[43m_var\u001b[49m\u001b[43m(\u001b[49m\u001b[43ma\u001b[49m\u001b[43m,\u001b[49m\u001b[43m \u001b[49m\u001b[43maxis\u001b[49m\u001b[38;5;241;43m=\u001b[39;49m\u001b[43maxis\u001b[49m\u001b[43m,\u001b[49m\u001b[43m \u001b[49m\u001b[43mdtype\u001b[49m\u001b[38;5;241;43m=\u001b[39;49m\u001b[43mdtype\u001b[49m\u001b[43m,\u001b[49m\u001b[43m \u001b[49m\u001b[43mout\u001b[49m\u001b[38;5;241;43m=\u001b[39;49m\u001b[43mout\u001b[49m\u001b[43m,\u001b[49m\u001b[43m \u001b[49m\u001b[43mddof\u001b[49m\u001b[38;5;241;43m=\u001b[39;49m\u001b[43mddof\u001b[49m\u001b[43m,\u001b[49m\n\u001b[0;32m    263\u001b[0m \u001b[43m               \u001b[49m\u001b[43mkeepdims\u001b[49m\u001b[38;5;241;43m=\u001b[39;49m\u001b[43mkeepdims\u001b[49m\u001b[43m,\u001b[49m\u001b[43m \u001b[49m\u001b[43mwhere\u001b[49m\u001b[38;5;241;43m=\u001b[39;49m\u001b[43mwhere\u001b[49m\u001b[43m)\u001b[49m\n\u001b[0;32m    265\u001b[0m     \u001b[38;5;28;01mif\u001b[39;00m \u001b[38;5;28misinstance\u001b[39m(ret, mu\u001b[38;5;241m.\u001b[39mndarray):\n\u001b[0;32m    266\u001b[0m         ret \u001b[38;5;241m=\u001b[39m um\u001b[38;5;241m.\u001b[39msqrt(ret, out\u001b[38;5;241m=\u001b[39mret)\n",
      "File \u001b[1;32m~\\anaconda3\\lib\\site-packages\\numpy\\core\\_methods.py:212\u001b[0m, in \u001b[0;36m_var\u001b[1;34m(a, axis, dtype, out, ddof, keepdims, where)\u001b[0m\n\u001b[0;32m    207\u001b[0m     dtype \u001b[38;5;241m=\u001b[39m mu\u001b[38;5;241m.\u001b[39mdtype(\u001b[38;5;124m'\u001b[39m\u001b[38;5;124mf8\u001b[39m\u001b[38;5;124m'\u001b[39m)\n\u001b[0;32m    209\u001b[0m \u001b[38;5;66;03m# Compute the mean.\u001b[39;00m\n\u001b[0;32m    210\u001b[0m \u001b[38;5;66;03m# Note that if dtype is not of inexact type then arraymean will\u001b[39;00m\n\u001b[0;32m    211\u001b[0m \u001b[38;5;66;03m# not be either.\u001b[39;00m\n\u001b[1;32m--> 212\u001b[0m arrmean \u001b[38;5;241m=\u001b[39m \u001b[43mumr_sum\u001b[49m\u001b[43m(\u001b[49m\u001b[43marr\u001b[49m\u001b[43m,\u001b[49m\u001b[43m \u001b[49m\u001b[43maxis\u001b[49m\u001b[43m,\u001b[49m\u001b[43m \u001b[49m\u001b[43mdtype\u001b[49m\u001b[43m,\u001b[49m\u001b[43m \u001b[49m\u001b[43mkeepdims\u001b[49m\u001b[38;5;241;43m=\u001b[39;49m\u001b[38;5;28;43;01mTrue\u001b[39;49;00m\u001b[43m,\u001b[49m\u001b[43m \u001b[49m\u001b[43mwhere\u001b[49m\u001b[38;5;241;43m=\u001b[39;49m\u001b[43mwhere\u001b[49m\u001b[43m)\u001b[49m\n\u001b[0;32m    213\u001b[0m \u001b[38;5;66;03m# The shape of rcount has to match arrmean to not change the shape of out\u001b[39;00m\n\u001b[0;32m    214\u001b[0m \u001b[38;5;66;03m# in broadcasting. Otherwise, it cannot be stored back to arrmean.\u001b[39;00m\n\u001b[0;32m    215\u001b[0m \u001b[38;5;28;01mif\u001b[39;00m rcount\u001b[38;5;241m.\u001b[39mndim \u001b[38;5;241m==\u001b[39m \u001b[38;5;241m0\u001b[39m:\n\u001b[0;32m    216\u001b[0m     \u001b[38;5;66;03m# fast-path for default case when where is True\u001b[39;00m\n",
      "\u001b[1;31mTypeError\u001b[0m: unsupported operand type(s) for +: 'float' and 'str'"
     ]
    }
   ],
   "source": [
    "# standardizing the data\n",
    "# df=df.std()"
   ]
  },
  {
   "cell_type": "code",
   "execution_count": 26,
   "id": "72984465",
   "metadata": {},
   "outputs": [
    {
     "name": "stdout",
     "output_type": "stream",
     "text": [
      "values of x_train\n",
      " [[ 1.17749845 -0.06897271 -0.49824875 ... -1.30469272  1.18620072\n",
      "   0.05046103]\n",
      " [ 0.08299127  0.99127694 -0.42971979 ... -0.11226389  0.42513904\n",
      "   1.84937475]\n",
      " [ 0.35026153  0.40807009  1.97052864 ...  0.79876023  0.99450861\n",
      "  -0.25169028]\n",
      " ...\n",
      " [ 0.25387867  0.29727006  0.54399862 ...  0.58655582  0.5860747\n",
      "  -0.85623801]\n",
      " [ 0.64768838  0.27269935  0.86322212 ...  0.93240385  0.01313873\n",
      "   0.58647113]\n",
      " [ 0.97379358 -0.52886237 -0.00510049 ... -1.74594492  0.20957662\n",
      "  -0.91059825]]\n",
      "values of x_test\n",
      " [[-0.91040261 -0.29845394 -0.75197939 ... -0.01218977 -1.06074264\n",
      "   0.63513027]\n",
      " [ 1.00306322 -0.06248233 -0.3841784  ... -1.30469272  1.18620072\n",
      "   0.05046103]\n",
      " [ 1.13965488  0.14289178  2.31967934 ...  1.23219901  1.23531733\n",
      "  -0.61064444]\n",
      " ...\n",
      " [ 0.27546133  0.20176878 -0.54509133 ... -0.84330595  0.42578527\n",
      "   0.25612853]\n",
      " [-0.67594982  1.18088871 -1.44681097 ... -1.13726636  0.24538262\n",
      "  -0.53621845]\n",
      " [-0.68600202 -0.67999546 -0.46528545 ... -0.56928095 -1.56751342\n",
      "  -1.02665766]]\n"
     ]
    }
   ],
   "source": [
    "# Feature Scaling\n",
    "sc = StandardScaler()\n",
    "x_train = sc.fit_transform(x_train)\n",
    "x_test = sc.transform(x_test)\n",
    "print(\"values of x_train\\n\",x_train)\n",
    "print(\"values of x_test\\n\",x_test)"
   ]
  },
  {
   "cell_type": "code",
   "execution_count": 27,
   "id": "1b533a5e",
   "metadata": {},
   "outputs": [
    {
     "name": "stdout",
     "output_type": "stream",
     "text": [
      "values of standardized x_train range\n",
      " 1.0000000000000002\n",
      "values of standardized x_test range\n",
      " 0.9992778913419128\n"
     ]
    }
   ],
   "source": [
    "#standardizing the range\n",
    "print(\"values of standardized x_train range\\n\",x_train.std())\n",
    "print(\"values of standardized x_test range\\n\",x_test.std())"
   ]
  },
  {
   "cell_type": "code",
   "execution_count": 28,
   "id": "5ce806c1",
   "metadata": {},
   "outputs": [
    {
     "data": {
      "text/plain": [
       "DecisionTreeClassifier()"
      ]
     },
     "execution_count": 28,
     "metadata": {},
     "output_type": "execute_result"
    }
   ],
   "source": [
    "#train the model\n",
    "model=DecisionTreeClassifier()\n",
    "model.fit(x_train,y_train)"
   ]
  },
  {
   "cell_type": "code",
   "execution_count": 29,
   "id": "b447af3f",
   "metadata": {},
   "outputs": [],
   "source": [
    "#accuracy on traing data\n",
    "x_train_prediction=model.predict(x_train)\n",
    "training_data_accuracy=accuracy_score(x_train_prediction,y_train)"
   ]
  },
  {
   "cell_type": "code",
   "execution_count": 30,
   "id": "77a44545",
   "metadata": {},
   "outputs": [
    {
     "name": "stdout",
     "output_type": "stream",
     "text": [
      "Accuracy on training data\n",
      " 0.9994293770540337\n",
      "              precision    recall  f1-score   support\n",
      "\n",
      "           0       0.98      1.00      0.99     22376\n",
      "           1       1.00      0.99      1.00     66365\n",
      "           2       1.00      1.00      1.00    154740\n",
      "           3       1.00      1.00      1.00    153387\n",
      "           4       1.00      1.00      1.00    154741\n",
      "           5       1.00      1.00      1.00    153962\n",
      "           6       1.00      1.00      1.00    132110\n",
      "\n",
      "    accuracy                           1.00    837681\n",
      "   macro avg       1.00      1.00      1.00    837681\n",
      "weighted avg       1.00      1.00      1.00    837681\n",
      "\n"
     ]
    }
   ],
   "source": [
    "print(\"Accuracy on training data\\n\",training_data_accuracy)\n",
    "#check precision,recall,f1 score\n",
    "print(classification_report(y_train,x_train_prediction))"
   ]
  },
  {
   "cell_type": "code",
   "execution_count": 31,
   "id": "4578a27c",
   "metadata": {},
   "outputs": [],
   "source": [
    "#accuracy on test data\n",
    "x_test_prediction=model.predict(x_test)\n",
    "testing_data_accuracy=accuracy_score(x_test_prediction,y_test)"
   ]
  },
  {
   "cell_type": "code",
   "execution_count": 32,
   "id": "a314f97b",
   "metadata": {},
   "outputs": [
    {
     "name": "stdout",
     "output_type": "stream",
     "text": [
      "Accuracy on testing data\n",
      " 0.9046084203589898\n",
      "              precision    recall  f1-score   support\n",
      "\n",
      "           0       0.97      0.98      0.97      7415\n",
      "           1       0.99      0.99      0.99     22092\n",
      "           2       0.75      0.75      0.75     51652\n",
      "           3       1.00      1.00      1.00     50770\n",
      "           4       0.75      0.75      0.75     51652\n",
      "           5       1.00      1.00      1.00     51660\n",
      "           6       1.00      1.00      1.00     43987\n",
      "\n",
      "    accuracy                           0.90    279228\n",
      "   macro avg       0.92      0.92      0.92    279228\n",
      "weighted avg       0.90      0.90      0.90    279228\n",
      "\n"
     ]
    }
   ],
   "source": [
    "print(\"Accuracy on testing data\\n\",testing_data_accuracy)\n",
    "#check precision,recall,f1 score\n",
    "print(classification_report(y_test,x_test_prediction))"
   ]
  },
  {
   "cell_type": "code",
   "execution_count": 33,
   "id": "4e0a24f8",
   "metadata": {},
   "outputs": [
    {
     "name": "stdout",
     "output_type": "stream",
     "text": [
      "[1]\n",
      "This is Barley\n"
     ]
    }
   ],
   "source": [
    "#making a predictive system\n",
    "#first we take input\n",
    "input_value=(-92.44550029,43.78176676,0.3636,20.5483871,14.83870968,8.774193548,73.49354839,3.498709677)\n",
    "#this input values is in the form of list so first we convert the list of data into numpy array\n",
    "#using function \"asarray\"\n",
    "updated_input_value=np.asarray(input_value)\n",
    "# as we know we not take last target value, so we reshape the numpy array\n",
    "reshaped_input_value=updated_input_value.reshape(1,-1)\n",
    "\n",
    "# for prediction\n",
    "prediction=model.predict(reshaped_input_value)\n",
    "print(prediction)\n",
    "\n",
    "# take condition if prediction is R then it is Rock other wise Mine\n",
    "# we take prediction[0] because it is in list form so we take first index 0 that this is equal to R or M\n",
    "if(prediction[0]==2): \n",
    "    print(\"This is Corn\")\n",
    "elif(prediction[0]==3):\n",
    "    print(\"This is Cotton\")\n",
    "elif(prediction[0]==4):\n",
    "    print(\"This is Soy\")\n",
    "elif(prediction[0]==5):\n",
    "    print(\"This is Spring Wheat\")\n",
    "elif(prediction[0]==6):\n",
    "    print(\"This is winter wheat\")\n",
    "else:\n",
    "    print(\"This is Barley\")\n",
    "  "
   ]
  },
  {
   "cell_type": "code",
   "execution_count": null,
   "id": "af384222",
   "metadata": {},
   "outputs": [],
   "source": []
  },
  {
   "cell_type": "code",
   "execution_count": 34,
   "id": "695d342e",
   "metadata": {},
   "outputs": [
    {
     "name": "stdout",
     "output_type": "stream",
     "text": [
      "              precision    recall  f1-score   support\n",
      "\n",
      "           0       0.97      0.98      0.97      7415\n",
      "           1       0.99      0.99      0.99     22092\n",
      "           2       0.75      0.75      0.75     51652\n",
      "           3       1.00      1.00      1.00     50770\n",
      "           4       0.75      0.75      0.75     51652\n",
      "           5       1.00      1.00      1.00     51660\n",
      "           6       1.00      1.00      1.00     43987\n",
      "\n",
      "    accuracy                           0.90    279228\n",
      "   macro avg       0.92      0.92      0.92    279228\n",
      "weighted avg       0.90      0.90      0.90    279228\n",
      "\n",
      "Accuracy of algorithm Decision tree :\n",
      " 90.46084203589898\n"
     ]
    }
   ],
   "source": [
    "    #test the model\n",
    "    predictions=model.predict(x_test)\n",
    "    #check precision,recall,f1 score\n",
    "    print(classification_report(y_test,predictions))\n",
    "    # check the accuracy of algorithms\n",
    "    print(\"Accuracy of algorithm Decision tree :\\n\",accuracy_score(y_test,predictions)*100)\n",
    "    # print(predictions),predictions\n",
    "    # print(y_test)"
   ]
  },
  {
   "cell_type": "code",
   "execution_count": 32,
   "id": "39789b9d",
   "metadata": {},
   "outputs": [
    {
     "name": "stdout",
     "output_type": "stream",
     "text": [
      "the importance of features 'longitude' is :  43.99%\n",
      "the importance of features 'latitude' is :  50.47%\n",
      "the importance of features 'NDVI' is :  4.45%\n",
      "the importance of features 'Max Temp' is :  0.22%\n",
      "the importance of features 'Ave Temp' is :  0.17%\n",
      "the importance of features 'Min Temp' is :  0.21%\n",
      "the importance of features 'Ave Humidity' is :  0.3%\n",
      "the importance of features 'Rainfall' is :  0.19%\n"
     ]
    }
   ],
   "source": [
    "# check which features more important for the classification\n",
    "imp_features=model.feature_importances_\n",
    "columns=X.columns\n",
    "i=0\n",
    "\n",
    "while i<len(columns):\n",
    "    print(f\"the importance of features '{columns[i]}' is :  {round(imp_features[i]*100,2)}%\")\n",
    "    i+=1"
   ]
  },
  {
   "cell_type": "code",
   "execution_count": 33,
   "id": "83c9b03d",
   "metadata": {},
   "outputs": [
    {
     "data": {
      "image/png": "[encoded data removed]",
      "text/plain": [
       "<Figure size 432x288 with 1 Axes>"
      ]
     },
     "metadata": {
      "needs_background": "light"
     },
     "output_type": "display_data"
    }
   ],
   "source": [
    "# plot feature importance\n",
    "plt.bar([x for x in range(len(imp_features))], imp_features)\n",
    "plt.show()"
   ]
  },
  {
   "cell_type": "code",
   "execution_count": 35,
   "id": "2d5eb86f",
   "metadata": {},
   "outputs": [],
   "source": [
    "# filename='trained_model.sav'\n",
    "filename='trained_model.pkl'\n",
    "pickle.dump(model,open(filename,'wb'))"
   ]
  },
  {
   "cell_type": "code",
   "execution_count": 36,
   "id": "23bca3cf",
   "metadata": {},
   "outputs": [],
   "source": [
    "#load the save model\n",
    "# loaded_model=pickle.load(open('trained_model.sav','rb'))\n",
    "loaded_model=pickle.load(open('trained_model.pkl','rb'))"
   ]
  },
  {
   "cell_type": "code",
   "execution_count": 96,
   "id": "a21449a5",
   "metadata": {},
   "outputs": [
    {
     "name": "stdout",
     "output_type": "stream",
     "text": [
      "[1]\n",
      "This is Barley\n"
     ]
    }
   ],
   "source": [
    "# #making a predictive system\n",
    "# #first we take input\n",
    "# input_value=(-92.44550029,43.78176676,0.3636,20.5483871,14.83870968,8.774193548,73.49354839,3.498709677)\n",
    "# #this input values is in the form of list so first we convert the list of data into numpy array\n",
    "# #using function \"asarray\"\n",
    "# updated_input_value=np.asarray(input_value)\n",
    "# # as we know we not take last target value, so we reshape the numpy array\n",
    "# reshaped_input_value=updated_input_value.reshape(1,-1)\n",
    "\n",
    "# # for prediction\n",
    "# prediction=loaded_model.predict(reshaped_input_value)\n",
    "# print(prediction)\n",
    "\n",
    "# # take condition if prediction is R then it is Rock other wise Mine\n",
    "# # we take prediction[0] because it is in list form so we take first index 0 that this is equal to R or M\n",
    "# if(prediction[0]==2): \n",
    "#     print(\"This is Corn\")\n",
    "# elif(prediction[0]==3):\n",
    "#     print(\"This is Cotton\")\n",
    "# elif(prediction[0]==4):\n",
    "#     print(\"This is Soy\")\n",
    "# elif(prediction[0]==5):\n",
    "#     print(\"This is Spring Wheat\")\n",
    "# elif(prediction[0]==6):\n",
    "#     print(\"This is winter wheat\")\n",
    "# else:\n",
    "#     print(\"This is Barley\")\n",
    "  "
   ]
  },
  {
   "cell_type": "code",
   "execution_count": null,
   "id": "5ad34347",
   "metadata": {},
   "outputs": [],
   "source": [
    "\n"
   ]
  },
  {
   "cell_type": "code",
   "execution_count": null,
   "id": "cb5f7b80",
   "metadata": {},
   "outputs": [],
   "source": []
  }
 ],
 "metadata": {
  "kernelspec": {
   "display_name": "Python 3",
   "language": "python",
   "name": "python3"
  },
  "language_info": {
   "codemirror_mode": {
    "name": "ipython",
    "version": 3
   },
   "file_extension": ".py",
   "mimetype": "text/x-python",
   "name": "python",
   "nbconvert_exporter": "python",
   "pygments_lexer": "ipython3",
   "version": "3.11.0"
  }
 },
 "nbformat": 4,
 "nbformat_minor": 5
}
